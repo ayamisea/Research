{
 "cells": [
  {
   "cell_type": "code",
   "execution_count": 87,
   "metadata": {},
   "outputs": [],
   "source": [
    "import numpy as np\n",
    "from sklearn.datasets import make_regression\n",
    "from sklearn.model_selection import train_test_split\n",
    "from sklearn.linear_model import LinearRegression\n",
    "from sklearn.linear_model import Lasso\n",
    "from sklearn.linear_model import LassoCV\n",
    "from sklearn.model_selection import validation_curve\n",
    "import matplotlib.pyplot as plt\n",
    "import time\n",
    "import matplotlib.pyplot as plt"
   ]
  },
  {
   "cell_type": "code",
   "execution_count": 113,
   "metadata": {},
   "outputs": [],
   "source": [
    "import keras \n",
    "from keras.utils import np_utils\n",
    "import tensorflow as tf\n",
    "from keras.models import Sequential\n",
    "from keras.callbacks import EarlyStopping\n",
    "from keras.layers import Dense, Dropout"
   ]
  },
  {
   "cell_type": "code",
   "execution_count": 215,
   "metadata": {},
   "outputs": [],
   "source": [
    "from keras import backend as K"
   ]
  },
  {
   "cell_type": "markdown",
   "metadata": {},
   "source": [
    "# 數字分類"
   ]
  },
  {
   "cell_type": "code",
   "execution_count": 234,
   "metadata": {},
   "outputs": [],
   "source": [
    "def getModel():\n",
    "    model = Sequential()\n",
    "    #model.add(Dense(units=tr_x.shape[1],activation='relu'))\n",
    "    model.add(Dense(units=20,activation='relu'))\n",
    "    model.add(Dense(units=1,activation='relu'))\n",
    "    model.compile(loss = 'mean_squared_error',optimizer='adam',metrics=['mse'])\n",
    "    return model"
   ]
  },
  {
   "cell_type": "code",
   "execution_count": null,
   "metadata": {},
   "outputs": [],
   "source": [
    "def show_train_history(train_acc,val_acc,y_label,hist):\n",
    "    plt.plot(hist.history[train_acc])\n",
    "    plt.plot(hist.history[val_acc])\n",
    "    plt.title('Train History')\n",
    "    plt.ylabel(y_label)\n",
    "    plt.xlabel('Epoch')\n",
    "    plt.legend(['train', 'validation'], loc='upper right')\n",
    "    plt.show()"
   ]
  },
  {
   "cell_type": "code",
   "execution_count": 495,
   "metadata": {},
   "outputs": [],
   "source": [
    "def getData(n,p,range_bt,range_up):\n",
    "    y = np.random.randint(range_bt,range_up,(n,1))\n",
    "    tmp = np.random.randint(0,2,(n,p))\n",
    "    X = tmp *y + tmp*np.random.uniform(-1,0.1,(n,p))\n",
    "    return X,y"
   ]
  },
  {
   "cell_type": "code",
   "execution_count": 508,
   "metadata": {},
   "outputs": [],
   "source": [
    "tr_n = 400\n",
    "tr_p = 25\n",
    "\n",
    "ts_n = 10000\n",
    "ts_p = tr_p \n",
    "\n",
    "tr_x,tr_y = getData(tr_n,tr_p,1,9)\n",
    "ts_x,ts_y = getData(ts_n,ts_p,1,10)"
   ]
  },
  {
   "cell_type": "code",
   "execution_count": 509,
   "metadata": {},
   "outputs": [
    {
     "name": "stdout",
     "output_type": "stream",
     "text": [
      "[4.94300996 0.         0.         4.88593767 0.         5.06837951\n",
      " 4.25740416 4.06330092 0.         4.78388946 0.         5.09024687\n",
      " 0.         0.         0.         4.52111438 0.         4.09247157\n",
      " 4.74258622 0.         4.06656824 0.         5.0069309  4.93541992\n",
      " 5.0958697 ] [5]\n"
     ]
    }
   ],
   "source": [
    "print(tr_x[0],tr_y[0])"
   ]
  },
  {
   "cell_type": "code",
   "execution_count": 510,
   "metadata": {},
   "outputs": [],
   "source": [
    "model = getModel()"
   ]
  },
  {
   "cell_type": "code",
   "execution_count": 511,
   "metadata": {
    "scrolled": true
   },
   "outputs": [
    {
     "name": "stdout",
     "output_type": "stream",
     "text": [
      "Train on 320 samples, validate on 80 samples\n",
      "Epoch 1/600\n",
      " - 0s - loss: 23.6153 - mse: 23.6153 - val_loss: 22.3434 - val_mse: 22.3434\n",
      "Epoch 2/600\n",
      " - 0s - loss: 21.3614 - mse: 21.3614 - val_loss: 19.6253 - val_mse: 19.6253\n",
      "Epoch 3/600\n",
      " - 0s - loss: 18.5151 - mse: 18.5151 - val_loss: 15.6100 - val_mse: 15.6100\n",
      "Epoch 4/600\n",
      " - 0s - loss: 15.1245 - mse: 15.1245 - val_loss: 11.3310 - val_mse: 11.3310\n",
      "Epoch 5/600\n",
      " - 0s - loss: 11.6687 - mse: 11.6687 - val_loss: 7.8184 - val_mse: 7.8184\n",
      "Epoch 6/600\n",
      " - 0s - loss: 8.5874 - mse: 8.5874 - val_loss: 5.2973 - val_mse: 5.2973\n",
      "Epoch 7/600\n",
      " - 0s - loss: 6.1156 - mse: 6.1156 - val_loss: 3.7914 - val_mse: 3.7914\n",
      "Epoch 8/600\n",
      " - 0s - loss: 4.4821 - mse: 4.4821 - val_loss: 3.1189 - val_mse: 3.1189\n",
      "Epoch 9/600\n",
      " - 0s - loss: 3.7327 - mse: 3.7327 - val_loss: 3.0087 - val_mse: 3.0087\n",
      "Epoch 10/600\n",
      " - 0s - loss: 3.5065 - mse: 3.5065 - val_loss: 3.1486 - val_mse: 3.1486\n",
      "Epoch 11/600\n",
      " - 0s - loss: 3.4391 - mse: 3.4391 - val_loss: 3.2570 - val_mse: 3.2570\n",
      "Epoch 12/600\n",
      " - 0s - loss: 3.4323 - mse: 3.4323 - val_loss: 3.2489 - val_mse: 3.2489\n",
      "Epoch 13/600\n",
      " - 0s - loss: 3.3463 - mse: 3.3463 - val_loss: 3.1488 - val_mse: 3.1488\n",
      "Epoch 14/600\n",
      " - 0s - loss: 3.2048 - mse: 3.2048 - val_loss: 3.0056 - val_mse: 3.0056\n",
      "Epoch 15/600\n",
      " - 0s - loss: 3.0587 - mse: 3.0587 - val_loss: 2.8620 - val_mse: 2.8620\n",
      "Epoch 16/600\n",
      " - 0s - loss: 2.9127 - mse: 2.9127 - val_loss: 2.7495 - val_mse: 2.7495\n",
      "Epoch 17/600\n",
      " - 0s - loss: 2.8240 - mse: 2.8240 - val_loss: 2.6522 - val_mse: 2.6522\n",
      "Epoch 18/600\n",
      " - 0s - loss: 2.7402 - mse: 2.7402 - val_loss: 2.5878 - val_mse: 2.5878\n",
      "Epoch 19/600\n",
      " - 0s - loss: 2.6598 - mse: 2.6598 - val_loss: 2.5422 - val_mse: 2.5422\n",
      "Epoch 20/600\n",
      " - 0s - loss: 2.5901 - mse: 2.5901 - val_loss: 2.5098 - val_mse: 2.5098\n",
      "Epoch 21/600\n",
      " - 0s - loss: 2.5185 - mse: 2.5185 - val_loss: 2.4681 - val_mse: 2.4681\n",
      "Epoch 22/600\n",
      " - 0s - loss: 2.4535 - mse: 2.4535 - val_loss: 2.4291 - val_mse: 2.4291\n",
      "Epoch 23/600\n",
      " - 0s - loss: 2.3966 - mse: 2.3966 - val_loss: 2.4004 - val_mse: 2.4004\n",
      "Epoch 24/600\n",
      " - 0s - loss: 2.3346 - mse: 2.3346 - val_loss: 2.3769 - val_mse: 2.3769\n",
      "Epoch 25/600\n",
      " - 0s - loss: 2.2733 - mse: 2.2733 - val_loss: 2.3519 - val_mse: 2.3519\n",
      "Epoch 26/600\n",
      " - 0s - loss: 2.2213 - mse: 2.2213 - val_loss: 2.3270 - val_mse: 2.3270\n",
      "Epoch 27/600\n",
      " - 0s - loss: 2.1649 - mse: 2.1649 - val_loss: 2.2937 - val_mse: 2.2937\n",
      "Epoch 28/600\n",
      " - 0s - loss: 2.1127 - mse: 2.1127 - val_loss: 2.2577 - val_mse: 2.2577\n",
      "Epoch 29/600\n",
      " - 0s - loss: 2.0609 - mse: 2.0609 - val_loss: 2.2313 - val_mse: 2.2313\n",
      "Epoch 30/600\n",
      " - 0s - loss: 2.0146 - mse: 2.0146 - val_loss: 2.2037 - val_mse: 2.2037\n",
      "Epoch 31/600\n",
      " - 0s - loss: 1.9696 - mse: 1.9696 - val_loss: 2.1780 - val_mse: 2.1780\n",
      "Epoch 32/600\n",
      " - 0s - loss: 1.9268 - mse: 1.9268 - val_loss: 2.1511 - val_mse: 2.1511\n",
      "Epoch 33/600\n",
      " - 0s - loss: 1.8874 - mse: 1.8874 - val_loss: 2.1298 - val_mse: 2.1298\n",
      "Epoch 34/600\n",
      " - 0s - loss: 1.8520 - mse: 1.8520 - val_loss: 2.1063 - val_mse: 2.1063\n",
      "Epoch 35/600\n",
      " - 0s - loss: 1.8140 - mse: 1.8140 - val_loss: 2.0693 - val_mse: 2.0693\n",
      "Epoch 36/600\n",
      " - 0s - loss: 1.7787 - mse: 1.7787 - val_loss: 2.0171 - val_mse: 2.0171\n",
      "Epoch 37/600\n",
      " - 0s - loss: 1.7387 - mse: 1.7387 - val_loss: 1.9842 - val_mse: 1.9842\n",
      "Epoch 38/600\n",
      " - 0s - loss: 1.7050 - mse: 1.7050 - val_loss: 1.9605 - val_mse: 1.9605\n",
      "Epoch 39/600\n",
      " - 0s - loss: 1.6719 - mse: 1.6719 - val_loss: 1.9387 - val_mse: 1.9387\n",
      "Epoch 40/600\n",
      " - 0s - loss: 1.6415 - mse: 1.6415 - val_loss: 1.9136 - val_mse: 1.9136\n",
      "Epoch 41/600\n",
      " - 0s - loss: 1.6105 - mse: 1.6105 - val_loss: 1.8914 - val_mse: 1.8914\n",
      "Epoch 42/600\n",
      " - 0s - loss: 1.5794 - mse: 1.5794 - val_loss: 1.8614 - val_mse: 1.8614\n",
      "Epoch 43/600\n",
      " - 0s - loss: 1.5514 - mse: 1.5514 - val_loss: 1.8374 - val_mse: 1.8374\n",
      "Epoch 44/600\n",
      " - 0s - loss: 1.5215 - mse: 1.5215 - val_loss: 1.8142 - val_mse: 1.8142\n",
      "Epoch 45/600\n",
      " - 0s - loss: 1.4949 - mse: 1.4949 - val_loss: 1.7937 - val_mse: 1.7937\n",
      "Epoch 46/600\n",
      " - 0s - loss: 1.4678 - mse: 1.4678 - val_loss: 1.7777 - val_mse: 1.7777\n",
      "Epoch 47/600\n",
      " - 0s - loss: 1.4414 - mse: 1.4414 - val_loss: 1.7651 - val_mse: 1.7651\n",
      "Epoch 48/600\n",
      " - 0s - loss: 1.4160 - mse: 1.4160 - val_loss: 1.7586 - val_mse: 1.7586\n",
      "Epoch 49/600\n",
      " - 0s - loss: 1.3956 - mse: 1.3956 - val_loss: 1.7556 - val_mse: 1.7556\n",
      "Epoch 50/600\n",
      " - 0s - loss: 1.3730 - mse: 1.3730 - val_loss: 1.7435 - val_mse: 1.7435\n",
      "Epoch 51/600\n",
      " - 0s - loss: 1.3510 - mse: 1.3510 - val_loss: 1.7247 - val_mse: 1.7247\n",
      "Epoch 52/600\n",
      " - 0s - loss: 1.3304 - mse: 1.3304 - val_loss: 1.7082 - val_mse: 1.7082\n",
      "Epoch 53/600\n",
      " - 0s - loss: 1.3094 - mse: 1.3094 - val_loss: 1.6924 - val_mse: 1.6924\n",
      "Epoch 54/600\n",
      " - 0s - loss: 1.2910 - mse: 1.2910 - val_loss: 1.6770 - val_mse: 1.6770\n",
      "Epoch 55/600\n",
      " - 0s - loss: 1.2747 - mse: 1.2747 - val_loss: 1.6564 - val_mse: 1.6564\n",
      "Epoch 56/600\n",
      " - 0s - loss: 1.2563 - mse: 1.2563 - val_loss: 1.6395 - val_mse: 1.6395\n",
      "Epoch 57/600\n",
      " - 0s - loss: 1.2401 - mse: 1.2401 - val_loss: 1.6285 - val_mse: 1.6285\n",
      "Epoch 58/600\n",
      " - 0s - loss: 1.2214 - mse: 1.2214 - val_loss: 1.6165 - val_mse: 1.6165\n",
      "Epoch 59/600\n",
      " - 0s - loss: 1.2078 - mse: 1.2078 - val_loss: 1.6020 - val_mse: 1.6020\n",
      "Epoch 60/600\n",
      " - 0s - loss: 1.1888 - mse: 1.1888 - val_loss: 1.5933 - val_mse: 1.5933\n",
      "Epoch 61/600\n",
      " - 0s - loss: 1.1725 - mse: 1.1725 - val_loss: 1.5882 - val_mse: 1.5882\n",
      "Epoch 62/600\n",
      " - 0s - loss: 1.1568 - mse: 1.1568 - val_loss: 1.5832 - val_mse: 1.5832\n",
      "Epoch 63/600\n",
      " - 0s - loss: 1.1401 - mse: 1.1401 - val_loss: 1.5729 - val_mse: 1.5729\n",
      "Epoch 64/600\n",
      " - 0s - loss: 1.1259 - mse: 1.1259 - val_loss: 1.5611 - val_mse: 1.5611\n",
      "Epoch 65/600\n",
      " - 0s - loss: 1.1096 - mse: 1.1096 - val_loss: 1.5415 - val_mse: 1.5415\n",
      "Epoch 66/600\n",
      " - 0s - loss: 1.0955 - mse: 1.0955 - val_loss: 1.5235 - val_mse: 1.5235\n",
      "Epoch 67/600\n",
      " - 0s - loss: 1.0807 - mse: 1.0807 - val_loss: 1.5098 - val_mse: 1.5098\n",
      "Epoch 68/600\n",
      " - 0s - loss: 1.0716 - mse: 1.0716 - val_loss: 1.4990 - val_mse: 1.4990\n",
      "Epoch 69/600\n",
      " - 0s - loss: 1.0566 - mse: 1.0566 - val_loss: 1.4927 - val_mse: 1.4927\n",
      "Epoch 70/600\n",
      " - 0s - loss: 1.0412 - mse: 1.0412 - val_loss: 1.4881 - val_mse: 1.4881\n",
      "Epoch 71/600\n",
      " - 0s - loss: 1.0269 - mse: 1.0269 - val_loss: 1.4883 - val_mse: 1.4883\n",
      "Epoch 72/600\n",
      " - 0s - loss: 1.0192 - mse: 1.0192 - val_loss: 1.4918 - val_mse: 1.4918\n",
      "Epoch 73/600\n",
      " - 0s - loss: 1.0104 - mse: 1.0104 - val_loss: 1.4810 - val_mse: 1.4810\n",
      "Epoch 74/600\n",
      " - 0s - loss: 0.9983 - mse: 0.9983 - val_loss: 1.4583 - val_mse: 1.4583\n",
      "Epoch 75/600\n",
      " - 0s - loss: 0.9825 - mse: 0.9825 - val_loss: 1.4411 - val_mse: 1.4411\n",
      "Epoch 76/600\n",
      " - 0s - loss: 0.9726 - mse: 0.9726 - val_loss: 1.4254 - val_mse: 1.4254\n",
      "Epoch 77/600\n",
      " - 0s - loss: 0.9628 - mse: 0.9628 - val_loss: 1.4135 - val_mse: 1.4135\n",
      "Epoch 78/600\n",
      " - 0s - loss: 0.9554 - mse: 0.9554 - val_loss: 1.4019 - val_mse: 1.4019\n",
      "Epoch 79/600\n",
      " - 0s - loss: 0.9470 - mse: 0.9470 - val_loss: 1.3923 - val_mse: 1.3923\n",
      "Epoch 80/600\n",
      " - 0s - loss: 0.9362 - mse: 0.9362 - val_loss: 1.3852 - val_mse: 1.3852\n",
      "Epoch 81/600\n",
      " - 0s - loss: 0.9241 - mse: 0.9241 - val_loss: 1.3777 - val_mse: 1.3777\n",
      "Epoch 82/600\n",
      " - 0s - loss: 0.9130 - mse: 0.9130 - val_loss: 1.3716 - val_mse: 1.3716\n",
      "Epoch 83/600\n",
      " - 0s - loss: 0.9046 - mse: 0.9046 - val_loss: 1.3719 - val_mse: 1.3719\n",
      "Epoch 84/600\n",
      " - 0s - loss: 0.8981 - mse: 0.8981 - val_loss: 1.3708 - val_mse: 1.3708\n",
      "Epoch 85/600\n",
      " - 0s - loss: 0.8914 - mse: 0.8914 - val_loss: 1.3652 - val_mse: 1.3652\n",
      "Epoch 86/600\n",
      " - 0s - loss: 0.8822 - mse: 0.8822 - val_loss: 1.3554 - val_mse: 1.3554\n",
      "Epoch 87/600\n",
      " - 0s - loss: 0.8725 - mse: 0.8725 - val_loss: 1.3418 - val_mse: 1.3418\n",
      "Epoch 88/600\n",
      " - 0s - loss: 0.8604 - mse: 0.8604 - val_loss: 1.3300 - val_mse: 1.3300\n",
      "Epoch 89/600\n",
      " - 0s - loss: 0.8540 - mse: 0.8540 - val_loss: 1.3194 - val_mse: 1.3194\n",
      "Epoch 90/600\n",
      " - 0s - loss: 0.8449 - mse: 0.8449 - val_loss: 1.3136 - val_mse: 1.3136\n",
      "Epoch 91/600\n",
      " - 0s - loss: 0.8359 - mse: 0.8359 - val_loss: 1.3077 - val_mse: 1.3077\n",
      "Epoch 92/600\n",
      " - 0s - loss: 0.8270 - mse: 0.8270 - val_loss: 1.3036 - val_mse: 1.3036\n",
      "Epoch 93/600\n",
      " - 0s - loss: 0.8215 - mse: 0.8215 - val_loss: 1.2988 - val_mse: 1.2988\n",
      "Epoch 94/600\n",
      " - 0s - loss: 0.8146 - mse: 0.8146 - val_loss: 1.2897 - val_mse: 1.2897\n",
      "Epoch 95/600\n",
      " - 0s - loss: 0.8066 - mse: 0.8066 - val_loss: 1.2713 - val_mse: 1.2713\n",
      "Epoch 96/600\n",
      " - 0s - loss: 0.7985 - mse: 0.7985 - val_loss: 1.2526 - val_mse: 1.2526\n"
     ]
    },
    {
     "name": "stdout",
     "output_type": "stream",
     "text": [
      "Epoch 97/600\n",
      " - 0s - loss: 0.7908 - mse: 0.7908 - val_loss: 1.2416 - val_mse: 1.2416\n",
      "Epoch 98/600\n",
      " - 0s - loss: 0.7852 - mse: 0.7852 - val_loss: 1.2359 - val_mse: 1.2359\n",
      "Epoch 99/600\n",
      " - 0s - loss: 0.7771 - mse: 0.7771 - val_loss: 1.2365 - val_mse: 1.2365\n",
      "Epoch 100/600\n",
      " - 0s - loss: 0.7702 - mse: 0.7702 - val_loss: 1.2353 - val_mse: 1.2353\n",
      "Epoch 101/600\n",
      " - 0s - loss: 0.7632 - mse: 0.7632 - val_loss: 1.2274 - val_mse: 1.2274\n",
      "Epoch 102/600\n",
      " - 0s - loss: 0.7574 - mse: 0.7574 - val_loss: 1.2211 - val_mse: 1.2211\n",
      "Epoch 103/600\n",
      " - 0s - loss: 0.7500 - mse: 0.7500 - val_loss: 1.2221 - val_mse: 1.2221\n",
      "Epoch 104/600\n",
      " - 0s - loss: 0.7449 - mse: 0.7449 - val_loss: 1.2162 - val_mse: 1.2162\n",
      "Epoch 105/600\n",
      " - 0s - loss: 0.7379 - mse: 0.7379 - val_loss: 1.2096 - val_mse: 1.2096\n",
      "Epoch 106/600\n",
      " - 0s - loss: 0.7306 - mse: 0.7306 - val_loss: 1.2046 - val_mse: 1.2046\n",
      "Epoch 107/600\n",
      " - 0s - loss: 0.7237 - mse: 0.7237 - val_loss: 1.2026 - val_mse: 1.2026\n",
      "Epoch 108/600\n",
      " - 0s - loss: 0.7185 - mse: 0.7185 - val_loss: 1.1937 - val_mse: 1.1937\n",
      "Epoch 109/600\n",
      " - 0s - loss: 0.7143 - mse: 0.7143 - val_loss: 1.1887 - val_mse: 1.1887\n",
      "Epoch 110/600\n",
      " - 0s - loss: 0.7055 - mse: 0.7055 - val_loss: 1.1906 - val_mse: 1.1906\n",
      "Epoch 111/600\n",
      " - 0s - loss: 0.6980 - mse: 0.6980 - val_loss: 1.1896 - val_mse: 1.1896\n",
      "Epoch 112/600\n",
      " - 0s - loss: 0.6928 - mse: 0.6928 - val_loss: 1.1883 - val_mse: 1.1883\n",
      "Epoch 113/600\n",
      " - 0s - loss: 0.6866 - mse: 0.6866 - val_loss: 1.1814 - val_mse: 1.1814\n",
      "Epoch 114/600\n",
      " - 0s - loss: 0.6804 - mse: 0.6804 - val_loss: 1.1771 - val_mse: 1.1771\n",
      "Epoch 115/600\n",
      " - 0s - loss: 0.6744 - mse: 0.6744 - val_loss: 1.1724 - val_mse: 1.1724\n",
      "Epoch 116/600\n",
      " - 0s - loss: 0.6692 - mse: 0.6692 - val_loss: 1.1679 - val_mse: 1.1679\n",
      "Epoch 117/600\n",
      " - 0s - loss: 0.6641 - mse: 0.6641 - val_loss: 1.1662 - val_mse: 1.1662\n",
      "Epoch 118/600\n",
      " - 0s - loss: 0.6592 - mse: 0.6592 - val_loss: 1.1653 - val_mse: 1.1653\n",
      "Epoch 119/600\n",
      " - 0s - loss: 0.6543 - mse: 0.6543 - val_loss: 1.1596 - val_mse: 1.1596\n",
      "Epoch 120/600\n",
      " - 0s - loss: 0.6483 - mse: 0.6483 - val_loss: 1.1546 - val_mse: 1.1546\n",
      "Epoch 121/600\n",
      " - 0s - loss: 0.6418 - mse: 0.6418 - val_loss: 1.1430 - val_mse: 1.1430\n",
      "Epoch 122/600\n",
      " - 0s - loss: 0.6344 - mse: 0.6344 - val_loss: 1.1313 - val_mse: 1.1313\n",
      "Epoch 123/600\n",
      " - 0s - loss: 0.6307 - mse: 0.6307 - val_loss: 1.1259 - val_mse: 1.1259\n",
      "Epoch 124/600\n",
      " - 0s - loss: 0.6262 - mse: 0.6262 - val_loss: 1.1224 - val_mse: 1.1224\n",
      "Epoch 125/600\n",
      " - 0s - loss: 0.6208 - mse: 0.6208 - val_loss: 1.1163 - val_mse: 1.1163\n",
      "Epoch 126/600\n",
      " - 0s - loss: 0.6141 - mse: 0.6141 - val_loss: 1.1120 - val_mse: 1.1120\n",
      "Epoch 127/600\n",
      " - 0s - loss: 0.6084 - mse: 0.6084 - val_loss: 1.1105 - val_mse: 1.1105\n",
      "Epoch 128/600\n",
      " - 0s - loss: 0.6060 - mse: 0.6060 - val_loss: 1.1129 - val_mse: 1.1129\n",
      "Epoch 129/600\n",
      " - 0s - loss: 0.5990 - mse: 0.5990 - val_loss: 1.1061 - val_mse: 1.1061\n",
      "Epoch 130/600\n",
      " - 0s - loss: 0.5953 - mse: 0.5953 - val_loss: 1.0999 - val_mse: 1.0999\n",
      "Epoch 131/600\n",
      " - 0s - loss: 0.5891 - mse: 0.5891 - val_loss: 1.0974 - val_mse: 1.0974\n",
      "Epoch 132/600\n",
      " - 0s - loss: 0.5844 - mse: 0.5844 - val_loss: 1.0981 - val_mse: 1.0981\n",
      "Epoch 133/600\n",
      " - 0s - loss: 0.5792 - mse: 0.5792 - val_loss: 1.0997 - val_mse: 1.0997\n",
      "Epoch 134/600\n",
      " - 0s - loss: 0.5743 - mse: 0.5743 - val_loss: 1.1022 - val_mse: 1.1022\n",
      "Epoch 135/600\n",
      " - 0s - loss: 0.5702 - mse: 0.5702 - val_loss: 1.1039 - val_mse: 1.1039\n",
      "Epoch 136/600\n",
      " - 0s - loss: 0.5658 - mse: 0.5658 - val_loss: 1.0995 - val_mse: 1.0995\n",
      "Epoch 137/600\n",
      " - 0s - loss: 0.5617 - mse: 0.5617 - val_loss: 1.0978 - val_mse: 1.0978\n",
      "Epoch 138/600\n",
      " - 0s - loss: 0.5590 - mse: 0.5590 - val_loss: 1.0959 - val_mse: 1.0959\n",
      "Epoch 139/600\n",
      " - 0s - loss: 0.5538 - mse: 0.5538 - val_loss: 1.0900 - val_mse: 1.0900\n",
      "Epoch 140/600\n",
      " - 0s - loss: 0.5494 - mse: 0.5494 - val_loss: 1.0832 - val_mse: 1.0832\n",
      "Epoch 141/600\n",
      " - 0s - loss: 0.5451 - mse: 0.5451 - val_loss: 1.0781 - val_mse: 1.0781\n",
      "Epoch 142/600\n",
      " - 0s - loss: 0.5406 - mse: 0.5406 - val_loss: 1.0728 - val_mse: 1.0728\n",
      "Epoch 143/600\n",
      " - 0s - loss: 0.5358 - mse: 0.5358 - val_loss: 1.0676 - val_mse: 1.0676\n",
      "Epoch 144/600\n",
      " - 0s - loss: 0.5324 - mse: 0.5324 - val_loss: 1.0615 - val_mse: 1.0615\n",
      "Epoch 145/600\n",
      " - 0s - loss: 0.5287 - mse: 0.5287 - val_loss: 1.0570 - val_mse: 1.0570\n",
      "Epoch 146/600\n",
      " - 0s - loss: 0.5240 - mse: 0.5240 - val_loss: 1.0523 - val_mse: 1.0523\n",
      "Epoch 147/600\n",
      " - 0s - loss: 0.5204 - mse: 0.5204 - val_loss: 1.0447 - val_mse: 1.0447\n",
      "Epoch 148/600\n",
      " - 0s - loss: 0.5160 - mse: 0.5160 - val_loss: 1.0400 - val_mse: 1.0400\n",
      "Epoch 149/600\n",
      " - 0s - loss: 0.5124 - mse: 0.5124 - val_loss: 1.0364 - val_mse: 1.0364\n",
      "Epoch 150/600\n",
      " - 0s - loss: 0.5083 - mse: 0.5083 - val_loss: 1.0289 - val_mse: 1.0289\n",
      "Epoch 151/600\n",
      " - 0s - loss: 0.5039 - mse: 0.5039 - val_loss: 1.0241 - val_mse: 1.0241\n",
      "Epoch 152/600\n",
      " - 0s - loss: 0.5005 - mse: 0.5005 - val_loss: 1.0238 - val_mse: 1.0238\n",
      "Epoch 153/600\n",
      " - 0s - loss: 0.4983 - mse: 0.4983 - val_loss: 1.0194 - val_mse: 1.0194\n",
      "Epoch 154/600\n",
      " - 0s - loss: 0.4930 - mse: 0.4930 - val_loss: 1.0102 - val_mse: 1.0102\n",
      "Epoch 155/600\n",
      " - 0s - loss: 0.4905 - mse: 0.4905 - val_loss: 1.0017 - val_mse: 1.0017\n",
      "Epoch 156/600\n",
      " - 0s - loss: 0.4883 - mse: 0.4883 - val_loss: 0.9976 - val_mse: 0.9976\n",
      "Epoch 157/600\n",
      " - 0s - loss: 0.4839 - mse: 0.4839 - val_loss: 0.9963 - val_mse: 0.9963\n",
      "Epoch 158/600\n",
      " - 0s - loss: 0.4796 - mse: 0.4796 - val_loss: 0.9965 - val_mse: 0.9965\n",
      "Epoch 159/600\n",
      " - 0s - loss: 0.4765 - mse: 0.4765 - val_loss: 0.9949 - val_mse: 0.9949\n",
      "Epoch 160/600\n",
      " - 0s - loss: 0.4731 - mse: 0.4731 - val_loss: 0.9918 - val_mse: 0.9918\n",
      "Epoch 161/600\n",
      " - 0s - loss: 0.4695 - mse: 0.4695 - val_loss: 0.9851 - val_mse: 0.9851\n",
      "Epoch 162/600\n",
      " - 0s - loss: 0.4661 - mse: 0.4661 - val_loss: 0.9813 - val_mse: 0.9813\n",
      "Epoch 163/600\n",
      " - 0s - loss: 0.4628 - mse: 0.4628 - val_loss: 0.9802 - val_mse: 0.9802\n",
      "Epoch 164/600\n",
      " - 0s - loss: 0.4592 - mse: 0.4592 - val_loss: 0.9761 - val_mse: 0.9761\n",
      "Epoch 165/600\n",
      " - 0s - loss: 0.4559 - mse: 0.4559 - val_loss: 0.9701 - val_mse: 0.9701\n",
      "Epoch 166/600\n",
      " - 0s - loss: 0.4527 - mse: 0.4527 - val_loss: 0.9646 - val_mse: 0.9646\n",
      "Epoch 167/600\n",
      " - 0s - loss: 0.4498 - mse: 0.4498 - val_loss: 0.9566 - val_mse: 0.9566\n",
      "Epoch 168/600\n",
      " - 0s - loss: 0.4472 - mse: 0.4472 - val_loss: 0.9496 - val_mse: 0.9496\n",
      "Epoch 169/600\n",
      " - 0s - loss: 0.4448 - mse: 0.4448 - val_loss: 0.9446 - val_mse: 0.9446\n",
      "Epoch 170/600\n",
      " - 0s - loss: 0.4400 - mse: 0.4400 - val_loss: 0.9414 - val_mse: 0.9414\n",
      "Epoch 171/600\n",
      " - 0s - loss: 0.4373 - mse: 0.4373 - val_loss: 0.9400 - val_mse: 0.9400\n",
      "Epoch 172/600\n",
      " - 0s - loss: 0.4322 - mse: 0.4322 - val_loss: 0.9372 - val_mse: 0.9372\n",
      "Epoch 173/600\n",
      " - 0s - loss: 0.4301 - mse: 0.4301 - val_loss: 0.9362 - val_mse: 0.9362\n",
      "Epoch 174/600\n",
      " - 0s - loss: 0.4265 - mse: 0.4265 - val_loss: 0.9329 - val_mse: 0.9329\n",
      "Epoch 175/600\n",
      " - 0s - loss: 0.4233 - mse: 0.4233 - val_loss: 0.9261 - val_mse: 0.9261\n",
      "Epoch 176/600\n",
      " - 0s - loss: 0.4207 - mse: 0.4207 - val_loss: 0.9202 - val_mse: 0.9202\n",
      "Epoch 177/600\n",
      " - 0s - loss: 0.4179 - mse: 0.4179 - val_loss: 0.9148 - val_mse: 0.9148\n",
      "Epoch 178/600\n",
      " - 0s - loss: 0.4151 - mse: 0.4151 - val_loss: 0.9086 - val_mse: 0.9086\n",
      "Epoch 179/600\n",
      " - 0s - loss: 0.4129 - mse: 0.4129 - val_loss: 0.9034 - val_mse: 0.9034\n",
      "Epoch 180/600\n",
      " - 0s - loss: 0.4076 - mse: 0.4076 - val_loss: 0.9029 - val_mse: 0.9029\n",
      "Epoch 181/600\n",
      " - 0s - loss: 0.4058 - mse: 0.4058 - val_loss: 0.9010 - val_mse: 0.9010\n",
      "Epoch 182/600\n",
      " - 0s - loss: 0.4031 - mse: 0.4031 - val_loss: 0.8954 - val_mse: 0.8954\n",
      "Epoch 183/600\n",
      " - 0s - loss: 0.4014 - mse: 0.4014 - val_loss: 0.8905 - val_mse: 0.8905\n",
      "Epoch 184/600\n",
      " - 0s - loss: 0.3989 - mse: 0.3989 - val_loss: 0.8894 - val_mse: 0.8894\n",
      "Epoch 185/600\n",
      " - 0s - loss: 0.3963 - mse: 0.3963 - val_loss: 0.8889 - val_mse: 0.8889\n",
      "Epoch 186/600\n",
      " - 0s - loss: 0.3935 - mse: 0.3935 - val_loss: 0.8938 - val_mse: 0.8938\n",
      "Epoch 187/600\n",
      " - 0s - loss: 0.3909 - mse: 0.3909 - val_loss: 0.8974 - val_mse: 0.8974\n",
      "Epoch 188/600\n",
      " - 0s - loss: 0.3892 - mse: 0.3892 - val_loss: 0.8932 - val_mse: 0.8932\n",
      "Epoch 189/600\n",
      " - 0s - loss: 0.3851 - mse: 0.3851 - val_loss: 0.8874 - val_mse: 0.8874\n",
      "Epoch 190/600\n",
      " - 0s - loss: 0.3841 - mse: 0.3841 - val_loss: 0.8848 - val_mse: 0.8848\n",
      "Epoch 191/600\n",
      " - 0s - loss: 0.3824 - mse: 0.3824 - val_loss: 0.8831 - val_mse: 0.8831\n",
      "Epoch 192/600\n",
      " - 0s - loss: 0.3792 - mse: 0.3792 - val_loss: 0.8813 - val_mse: 0.8813\n"
     ]
    },
    {
     "name": "stdout",
     "output_type": "stream",
     "text": [
      "Epoch 193/600\n",
      " - 0s - loss: 0.3769 - mse: 0.3769 - val_loss: 0.8798 - val_mse: 0.8798\n",
      "Epoch 194/600\n",
      " - 0s - loss: 0.3744 - mse: 0.3744 - val_loss: 0.8740 - val_mse: 0.8740\n",
      "Epoch 195/600\n",
      " - 0s - loss: 0.3722 - mse: 0.3722 - val_loss: 0.8694 - val_mse: 0.8694\n",
      "Epoch 196/600\n",
      " - 0s - loss: 0.3700 - mse: 0.3700 - val_loss: 0.8645 - val_mse: 0.8645\n",
      "Epoch 197/600\n",
      " - 0s - loss: 0.3680 - mse: 0.3680 - val_loss: 0.8609 - val_mse: 0.8609\n",
      "Epoch 198/600\n",
      " - 0s - loss: 0.3657 - mse: 0.3657 - val_loss: 0.8577 - val_mse: 0.8577\n",
      "Epoch 199/600\n",
      " - 0s - loss: 0.3642 - mse: 0.3642 - val_loss: 0.8539 - val_mse: 0.8539\n",
      "Epoch 200/600\n",
      " - 0s - loss: 0.3628 - mse: 0.3628 - val_loss: 0.8561 - val_mse: 0.8561\n",
      "Epoch 201/600\n",
      " - 0s - loss: 0.3607 - mse: 0.3607 - val_loss: 0.8549 - val_mse: 0.8549\n",
      "Epoch 202/600\n",
      " - 0s - loss: 0.3587 - mse: 0.3587 - val_loss: 0.8529 - val_mse: 0.8529\n",
      "Epoch 203/600\n",
      " - 0s - loss: 0.3573 - mse: 0.3573 - val_loss: 0.8497 - val_mse: 0.8497\n",
      "Epoch 204/600\n",
      " - 0s - loss: 0.3543 - mse: 0.3543 - val_loss: 0.8480 - val_mse: 0.8480\n",
      "Epoch 205/600\n",
      " - 0s - loss: 0.3528 - mse: 0.3528 - val_loss: 0.8471 - val_mse: 0.8471\n",
      "Epoch 206/600\n",
      " - 0s - loss: 0.3514 - mse: 0.3514 - val_loss: 0.8450 - val_mse: 0.8450\n",
      "Epoch 207/600\n",
      " - 0s - loss: 0.3489 - mse: 0.3489 - val_loss: 0.8468 - val_mse: 0.8468\n",
      "Epoch 208/600\n",
      " - 0s - loss: 0.3478 - mse: 0.3478 - val_loss: 0.8510 - val_mse: 0.8510\n",
      "Epoch 209/600\n",
      " - 0s - loss: 0.3463 - mse: 0.3463 - val_loss: 0.8489 - val_mse: 0.8489\n",
      "Epoch 210/600\n",
      " - 0s - loss: 0.3439 - mse: 0.3439 - val_loss: 0.8435 - val_mse: 0.8435\n",
      "Epoch 211/600\n",
      " - 0s - loss: 0.3423 - mse: 0.3423 - val_loss: 0.8398 - val_mse: 0.8398\n",
      "Epoch 212/600\n",
      " - 0s - loss: 0.3433 - mse: 0.3433 - val_loss: 0.8380 - val_mse: 0.8380\n",
      "Epoch 213/600\n",
      " - 0s - loss: 0.3414 - mse: 0.3414 - val_loss: 0.8395 - val_mse: 0.8395\n",
      "Epoch 214/600\n",
      " - 0s - loss: 0.3378 - mse: 0.3378 - val_loss: 0.8436 - val_mse: 0.8436\n",
      "Epoch 215/600\n",
      " - 0s - loss: 0.3366 - mse: 0.3366 - val_loss: 0.8465 - val_mse: 0.8465\n",
      "Epoch 216/600\n",
      " - 0s - loss: 0.3345 - mse: 0.3345 - val_loss: 0.8430 - val_mse: 0.8430\n",
      "Epoch 217/600\n",
      " - 0s - loss: 0.3338 - mse: 0.3338 - val_loss: 0.8395 - val_mse: 0.8395\n",
      "Epoch 218/600\n",
      " - 0s - loss: 0.3316 - mse: 0.3316 - val_loss: 0.8398 - val_mse: 0.8398\n",
      "Epoch 219/600\n",
      " - 0s - loss: 0.3302 - mse: 0.3302 - val_loss: 0.8405 - val_mse: 0.8405\n",
      "Epoch 220/600\n",
      " - 0s - loss: 0.3288 - mse: 0.3288 - val_loss: 0.8381 - val_mse: 0.8381\n",
      "Epoch 221/600\n",
      " - 0s - loss: 0.3267 - mse: 0.3267 - val_loss: 0.8384 - val_mse: 0.8384\n",
      "Epoch 222/600\n",
      " - 0s - loss: 0.3260 - mse: 0.3260 - val_loss: 0.8409 - val_mse: 0.8409\n",
      "Epoch 00222: early stopping\n"
     ]
    }
   ],
   "source": [
    "early_stopping = EarlyStopping(monitor='val_loss', patience=10, verbose=2)\n",
    "hist = model.fit(x=tr_x, y=tr_y,validation_split=0.2,epochs=600, batch_size=100,verbose=2,shuffle=True, callbacks=[early_stopping])"
   ]
  },
  {
   "cell_type": "code",
   "execution_count": 512,
   "metadata": {},
   "outputs": [
    {
     "name": "stdout",
     "output_type": "stream",
     "text": [
      "Model: \"sequential_16\"\n",
      "_________________________________________________________________\n",
      "Layer (type)                 Output Shape              Param #   \n",
      "=================================================================\n",
      "dense_40 (Dense)             (None, 20)                520       \n",
      "_________________________________________________________________\n",
      "dense_41 (Dense)             (None, 1)                 21        \n",
      "=================================================================\n",
      "Total params: 541\n",
      "Trainable params: 541\n",
      "Non-trainable params: 0\n",
      "_________________________________________________________________\n"
     ]
    }
   ],
   "source": [
    "model.summary()"
   ]
  },
  {
   "cell_type": "code",
   "execution_count": 257,
   "metadata": {},
   "outputs": [
    {
     "data": {
      "text/plain": [
       "dict_keys(['val_loss', 'val_mse', 'loss', 'mse'])"
      ]
     },
     "execution_count": 257,
     "metadata": {},
     "output_type": "execute_result"
    }
   ],
   "source": [
    "hist.history.keys()"
   ]
  },
  {
   "cell_type": "code",
   "execution_count": 513,
   "metadata": {},
   "outputs": [
    {
     "data": {
      "image/png": "[encoded data removed]",
      "text/plain": [
       "<Figure size 432x288 with 1 Axes>"
      ]
     },
     "metadata": {
      "needs_background": "light"
     },
     "output_type": "display_data"
    }
   ],
   "source": [
    "show_train_history('mse','val_mse','MSE',hist)"
   ]
  },
  {
   "cell_type": "code",
   "execution_count": 514,
   "metadata": {},
   "outputs": [
    {
     "name": "stdout",
     "output_type": "stream",
     "text": [
      "10000/10000 [==============================] - 0s 46us/step\n"
     ]
    }
   ],
   "source": [
    "scores = model.evaluate(ts_x, ts_y)"
   ]
  },
  {
   "cell_type": "code",
   "execution_count": 515,
   "metadata": {},
   "outputs": [
    {
     "data": {
      "text/plain": [
       "array([[ 5.3507266],\n",
       "       [10.984315 ],\n",
       "       [11.6362915],\n",
       "       ...,\n",
       "       [ 3.2970996],\n",
       "       [ 4.1175804],\n",
       "       [ 7.7418237]], dtype=float32)"
      ]
     },
     "execution_count": 515,
     "metadata": {},
     "output_type": "execute_result"
    }
   ],
   "source": [
    "model.predict(ts_x)"
   ]
  },
  {
   "cell_type": "code",
   "execution_count": 516,
   "metadata": {},
   "outputs": [
    {
     "data": {
      "text/plain": [
       "array([[7],\n",
       "       [9],\n",
       "       [9],\n",
       "       ...,\n",
       "       [3],\n",
       "       [4],\n",
       "       [7]])"
      ]
     },
     "execution_count": 516,
     "metadata": {},
     "output_type": "execute_result"
    }
   ],
   "source": [
    "ts_y"
   ]
  },
  {
   "cell_type": "code",
   "execution_count": 517,
   "metadata": {},
   "outputs": [
    {
     "name": "stdout",
     "output_type": "stream",
     "text": [
      "Loss: 1.2382324893951415\n",
      "MSE: 1.2382326126098633\n"
     ]
    }
   ],
   "source": [
    "print('Loss:',scores[0]) # Loss value\n",
    "print('MSE:',scores[1]) # Metric value"
   ]
  },
  {
   "cell_type": "markdown",
   "metadata": {},
   "source": [
    "---\n",
    "# 多元迴歸"
   ]
  },
  {
   "cell_type": "code",
   "execution_count": 442,
   "metadata": {},
   "outputs": [],
   "source": [
    "def getRg(p,n_info,range_bt,range_up):\n",
    "    coef = np.random.uniform(range_bt,range_up,p).round(2)\n",
    "    idx = np.random.choice(len(coef), size=p-n_info, replace=False)\n",
    "    coef[idx]=0\n",
    "    intercept = np.random.uniform(range_bt,range_up,1).round(2)\n",
    "    print('Ground Truth:\\n','intercept:',intercept,'\\ncoefs:',coef)\n",
    "    return (intercept,coef)\n",
    "\n",
    "def getDataRg(n,p,coef,intercept):\n",
    "    error = np.random.normal(0,1,(n,))\n",
    "    X = np.random.normal(0,1,(n,p))\n",
    "    y = (X *coef).sum(axis=1) + intercept + error\n",
    "    return (X,y)\n",
    "\n",
    "def getRegPath(model):\n",
    "    # This is to avoid division by zero while doing np.log10\n",
    "    EPSILON = 1e-4\n",
    "\n",
    "    print(\"Computing regularization path using the coordinate descent lasso...\")\n",
    "    t1 = time.time()\n",
    "    model = LassoCV(cv=20).fit(tr_x, tr_y)\n",
    "    t_lasso_cv = time.time() - t1\n",
    "\n",
    "    # Display results\n",
    "    m_log_alphas = -np.log10(model.alphas_ + EPSILON)\n",
    "\n",
    "    plt.figure()\n",
    "    ymin, ymax = 100, 5000\n",
    "    plt.plot(m_log_alphas, model.mse_path_, ':')\n",
    "    plt.plot(m_log_alphas, model.mse_path_.mean(axis=-1), 'k',\n",
    "             label='Average across the folds', linewidth=2)\n",
    "    plt.axvline(-np.log10(model.alpha_ + EPSILON), linestyle='--', color='k',\n",
    "                label='alpha: CV estimate')\n",
    "\n",
    "    plt.legend()\n",
    "\n",
    "    plt.xlabel('-log(alpha)')\n",
    "    plt.ylabel('Mean square error')\n",
    "    plt.title('Mean square error on each fold: coordinate descent '\n",
    "              '(train time: %.2fs)' % t_lasso_cv)\n",
    "    plt.axis('tight')\n",
    "    plt.ylim(ymin, ymax)\n"
   ]
  },
  {
   "cell_type": "code",
   "execution_count": 483,
   "metadata": {},
   "outputs": [
    {
     "name": "stdout",
     "output_type": "stream",
     "text": [
      "Ground Truth:\n",
      " intercept: [3.72] \n",
      "coefs: [-5.51  9.58  0.    9.74  0.    5.79 -0.38  9.87  0.   -6.3  -9.1   0.\n",
      " -2.96  0.    2.69 -4.26  0.61 -2.66 -7.46  0.8 ]\n"
     ]
    }
   ],
   "source": [
    "# ground truth\n",
    "p=20\n",
    "intercept,coef = getRg(p,15,-10,10)"
   ]
  },
  {
   "cell_type": "code",
   "execution_count": 484,
   "metadata": {},
   "outputs": [
    {
     "name": "stdout",
     "output_type": "stream",
     "text": [
      "[3.72]\n",
      "[-5.51  9.58  0.    9.74  0.    5.79 -0.38  9.87  0.   -6.3  -9.1   0.\n",
      " -2.96  0.    2.69 -4.26  0.61 -2.66 -7.46  0.8 ]\n"
     ]
    }
   ],
   "source": [
    "print(intercept)\n",
    "print(coef)"
   ]
  },
  {
   "cell_type": "code",
   "execution_count": 485,
   "metadata": {
    "scrolled": true
   },
   "outputs": [],
   "source": [
    "tr_x,tr_y = getDataRg(40,p,coef,intercept)"
   ]
  },
  {
   "cell_type": "code",
   "execution_count": 486,
   "metadata": {},
   "outputs": [],
   "source": [
    "ts_x,ts_y = getDataRg(10,p,coef,intercept)"
   ]
  },
  {
   "cell_type": "markdown",
   "metadata": {},
   "source": [
    "---"
   ]
  },
  {
   "cell_type": "code",
   "execution_count": 445,
   "metadata": {},
   "outputs": [],
   "source": [
    "def printLinear(intercept,coefs, names = None, sort = False):  \n",
    "    if names == None:  \n",
    "        names = [\"X%s\" % x for x in range(1,len(coefs)+1)]  \n",
    "    lst = zip(coefs, names)  \n",
    "    if sort:  \n",
    "        lst = sorted(lst,  key = lambda x:-np.abs(x[0]))  \n",
    "    f =\" + \".join(\"%s * %s\" % (round(coef, 3), name)for coef, name in lst) \n",
    "    print('Y = '+ str(intercept.round(3)),'+',f)\n",
    "\n",
    "def printInfo(model):\n",
    "    print('係數不為 0 的個數：' + str(np.sum(model.coef_ != 0)),'\\n')\n",
    "    print('Parameters:')\n",
    "    print('intercept:',np.round(model.intercept_,3),'\\n','coefs:',np.round(model.coef_,3),'\\n')\n",
    "    print('Function:')\n",
    "    printLinear(model.intercept_,model.coef_)"
   ]
  },
  {
   "cell_type": "markdown",
   "metadata": {},
   "source": [
    "--- \n",
    "## Linear Regression"
   ]
  },
  {
   "cell_type": "code",
   "execution_count": 487,
   "metadata": {},
   "outputs": [
    {
     "name": "stdout",
     "output_type": "stream",
     "text": [
      "係數不為 0 的個數：20 \n",
      "\n",
      "Parameters:\n",
      "intercept: 3.876 \n",
      " coefs: [-5.811e+00  9.349e+00 -1.400e-01  9.460e+00  8.000e-03  5.855e+00\n",
      " -3.790e-01  9.983e+00 -7.200e-02 -6.376e+00 -8.715e+00 -3.500e-02\n",
      " -2.725e+00  8.600e-02  2.728e+00 -4.088e+00  8.050e-01 -2.515e+00\n",
      " -7.471e+00  8.360e-01] \n",
      "\n",
      "Function:\n",
      "Y = 3.876 + -5.811 * X1 + 9.349 * X2 + -0.14 * X3 + 9.46 * X4 + 0.008 * X5 + 5.855 * X6 + -0.379 * X7 + 9.983 * X8 + -0.072 * X9 + -6.376 * X10 + -8.715 * X11 + -0.035 * X12 + -2.725 * X13 + 0.086 * X14 + 2.728 * X15 + -4.088 * X16 + 0.805 * X17 + -2.515 * X18 + -7.471 * X19 + 0.836 * X20\n"
     ]
    }
   ],
   "source": [
    "lr = LinearRegression().fit(tr_x,tr_y)\n",
    "printInfo(lr)"
   ]
  },
  {
   "cell_type": "code",
   "execution_count": 488,
   "metadata": {},
   "outputs": [
    {
     "data": {
      "text/plain": [
       "0.9969798798302759"
      ]
     },
     "execution_count": 488,
     "metadata": {},
     "output_type": "execute_result"
    }
   ],
   "source": [
    "lr.score(ts_x, ts_y) "
   ]
  },
  {
   "cell_type": "code",
   "execution_count": 472,
   "metadata": {},
   "outputs": [],
   "source": [
    "from sklearn.metrics import mean_squared_error"
   ]
  },
  {
   "cell_type": "code",
   "execution_count": 489,
   "metadata": {},
   "outputs": [
    {
     "name": "stdout",
     "output_type": "stream",
     "text": [
      "1.0697997650171445\n",
      "[-16.61404322 -28.70658776 -14.63011995 -32.14265982   1.22413457\n",
      "  -9.58257551  -2.42582353  23.46103392  31.30100265  -1.28896094] \n",
      " [-16.08252536 -29.14937634 -16.05789991 -31.64846767   0.06956041\n",
      "  -9.5117725   -3.54903716  22.70699583  29.2198451   -0.6277578 ]\n"
     ]
    }
   ],
   "source": [
    "print(mean_squared_error(ts_y,lr.predict(ts_x)))\n",
    "print(lr.predict(ts_x),'\\n',ts_y)"
   ]
  },
  {
   "cell_type": "markdown",
   "metadata": {},
   "source": [
    "---\n",
    "## Lasso\n",
    "[tutorial](https://blog.csdn.net/kissazhu/article/details/78111898)"
   ]
  },
  {
   "cell_type": "code",
   "execution_count": 518,
   "metadata": {},
   "outputs": [
    {
     "name": "stdout",
     "output_type": "stream",
     "text": [
      "係數不為 0 的個數：23 \n",
      "\n",
      "Parameters:\n",
      "intercept: [2.309] \n",
      " coefs: [0.011 0.059 0.019 0.047 0.074 0.053 0.061 0.05  0.033 0.04  0.056 0.06\n",
      " 0.04  0.016 0.048 0.043 0.079 0.014 0.    0.084 0.015 0.079 0.012 0.\n",
      " 0.087] \n",
      "\n",
      "Function:\n",
      "Y = [2.309] + 0.011 * X1 + 0.059 * X2 + 0.019 * X3 + 0.047 * X4 + 0.074 * X5 + 0.053 * X6 + 0.061 * X7 + 0.05 * X8 + 0.033 * X9 + 0.04 * X10 + 0.056 * X11 + 0.06 * X12 + 0.04 * X13 + 0.016 * X14 + 0.048 * X15 + 0.043 * X16 + 0.079 * X17 + 0.014 * X18 + 0.0 * X19 + 0.084 * X20 + 0.015 * X21 + 0.079 * X22 + 0.012 * X23 + 0.0 * X24 + 0.087 * X25\n"
     ]
    }
   ],
   "source": [
    "lasso = Lasso(1)\n",
    "lasso.fit(tr_x,tr_y)\n",
    "printInfo(lasso)"
   ]
  },
  {
   "cell_type": "code",
   "execution_count": 519,
   "metadata": {},
   "outputs": [
    {
     "data": {
      "text/plain": [
       "0.709378060570768"
      ]
     },
     "execution_count": 519,
     "metadata": {},
     "output_type": "execute_result"
    }
   ],
   "source": [
    "lasso.score(ts_x,ts_y)"
   ]
  },
  {
   "cell_type": "markdown",
   "metadata": {},
   "source": [
    "---\n",
    "## Lasso with cross-validation"
   ]
  },
  {
   "cell_type": "code",
   "execution_count": 490,
   "metadata": {},
   "outputs": [
    {
     "name": "stdout",
     "output_type": "stream",
     "text": [
      "利用Lasso交叉驗證計算得出最佳 alpha：0.02356706165079779\n"
     ]
    }
   ],
   "source": [
    "lassocv = LassoCV(cv=5, random_state=0).fit(tr_x,tr_y)\n",
    "alpha = lassocv.alpha_\n",
    "print('利用Lasso交叉驗證計算得出最佳 alpha：' + str(alpha))"
   ]
  },
  {
   "cell_type": "code",
   "execution_count": 491,
   "metadata": {},
   "outputs": [
    {
     "name": "stdout",
     "output_type": "stream",
     "text": [
      "係數不為 0 的個數：17 \n",
      "\n",
      "Parameters:\n",
      "intercept: 3.904 \n",
      " coefs: [-5.768  9.252 -0.     9.317  0.015  5.657 -0.352  9.929 -0.119 -6.317\n",
      " -8.737 -0.    -2.804  0.     2.664 -4.069  0.721 -2.497 -7.392  0.857] \n",
      "\n",
      "Function:\n",
      "Y = 3.904 + -5.768 * X1 + 9.252 * X2 + -0.0 * X3 + 9.317 * X4 + 0.015 * X5 + 5.657 * X6 + -0.352 * X7 + 9.929 * X8 + -0.119 * X9 + -6.317 * X10 + -8.737 * X11 + -0.0 * X12 + -2.804 * X13 + 0.0 * X14 + 2.664 * X15 + -4.069 * X16 + 0.721 * X17 + -2.497 * X18 + -7.392 * X19 + 0.857 * X20\n"
     ]
    }
   ],
   "source": [
    "printInfo(lassocv)"
   ]
  },
  {
   "cell_type": "code",
   "execution_count": 492,
   "metadata": {},
   "outputs": [
    {
     "data": {
      "text/plain": [
       "0.997004627518421"
      ]
     },
     "execution_count": 492,
     "metadata": {},
     "output_type": "execute_result"
    }
   ],
   "source": [
    "lassocv.score(ts_x,ts_y)"
   ]
  },
  {
   "cell_type": "code",
   "execution_count": 493,
   "metadata": {},
   "outputs": [
    {
     "name": "stdout",
     "output_type": "stream",
     "text": [
      "1.061033534048025\n",
      "[-15.99121598 -28.40319708 -13.95937068 -31.89228088   1.5167803\n",
      " -10.07142134  -2.47827533  23.10627054  30.44720549  -1.22936205] \n",
      " [-16.08252536 -29.14937634 -16.05789991 -31.64846767   0.06956041\n",
      "  -9.5117725   -3.54903716  22.70699583  29.2198451   -0.6277578 ]\n"
     ]
    }
   ],
   "source": [
    "print(mean_squared_error(ts_y,lassocv.predict(ts_x)))\n",
    "print(lassocv.predict(ts_x),'\\n',ts_y)"
   ]
  },
  {
   "cell_type": "code",
   "execution_count": 494,
   "metadata": {},
   "outputs": [
    {
     "name": "stdout",
     "output_type": "stream",
     "text": [
      "Computing regularization path using the coordinate descent lasso...\n"
     ]
    },
    {
     "data": {
      "image/png": "[encoded data removed]",
      "text/plain": [
       "<Figure size 432x288 with 1 Axes>"
      ]
     },
     "metadata": {
      "needs_background": "light"
     },
     "output_type": "display_data"
    }
   ],
   "source": [
    "getRegPath(lassocv)"
   ]
  }
 ],
 "metadata": {
  "kernelspec": {
   "display_name": "Python (tensorflow-gpu)",
   "language": "python",
   "name": "tensorflow-gpu"
  },
  "language_info": {
   "codemirror_mode": {
    "name": "ipython",
    "version": 3
   },
   "file_extension": ".py",
   "mimetype": "text/x-python",
   "name": "python",
   "nbconvert_exporter": "python",
   "pygments_lexer": "ipython3",
   "version": "3.6.9"
  }
 },
 "nbformat": 4,
 "nbformat_minor": 2
}

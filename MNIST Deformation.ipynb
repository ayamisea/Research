{
 "cells": [
  {
   "cell_type": "markdown",
   "metadata": {},
   "source": [
    "# MNIST Deformation"
   ]
  },
  {
   "cell_type": "markdown",
   "metadata": {},
   "source": [
    "## 旋轉"
   ]
  },
  {
   "cell_type": "code",
   "execution_count": 1,
   "metadata": {},
   "outputs": [],
   "source": [
    "import argparse\n",
    "import cv2\n",
    "# https://pypi.org/project/opencv-python/\n",
    "import matplotlib.pyplot as plt\n",
    "def plot_image(image):\n",
    "    fig = plt.gcf()\n",
    "    fig.set_size_inches(2,2)\n",
    "    plt.imshow(image , cmap='binary')\n",
    "    plt.show()\n",
    "\n",
    "def image_rotate(image,angle,center=None,scale=1.0):\n",
    "    # 圖片大小\n",
    "    (h,w)=image.shape[:2]\n",
    "    # 若未指定旋轉中心，就以圖像中心為準\n",
    "    if center is None:\n",
    "        center = (w/2,h/2)\n",
    "    # 旋轉\n",
    "    M = cv2.getRotationMatrix2D(center,angle,scale)\n",
    "    rotated = cv2.warpAffine(image,M,(w,h))\n",
    "    \n",
    "    # 回傳以旋轉之圖像\n",
    "    return rotated"
   ]
  },
  {
   "cell_type": "markdown",
   "metadata": {},
   "source": [
    "## 縮放"
   ]
  },
  {
   "cell_type": "code",
   "execution_count": 150,
   "metadata": {},
   "outputs": [],
   "source": [
    "def getScaleImg(img,newSize):\n",
    "    resizeImg = cv2.resize(img,dsize=(newSize,newSize), interpolation = cv2.INTER_AREA)\n",
    "    return resizeImg"
   ]
  },
  {
   "cell_type": "code",
   "execution_count": 103,
   "metadata": {},
   "outputs": [],
   "source": [
    "def imgPosition(img,newSize,pos):\n",
    "   \n",
    "    resizeImg = getScaleImg(img,newSize)\n",
    "    oldSize = img.shape[0]\n",
    "    if pos == 1: #left up\n",
    "        nImg = cv2.copyMakeBorder(resizeImg,0,oldSize-newSize,0,oldSize-newSize,cv2.BORDER_CONSTANT)\n",
    "    elif pos == 2: #right up\n",
    "        nImg = cv2.copyMakeBorder(resizeImg,0,oldSize-newSize,oldSize-newSize,0,cv2.BORDER_CONSTANT)\n",
    "    elif pos == 3: #left down\n",
    "        nImg = cv2.copyMakeBorder(resizeImg,oldSize-newSize,0,0,oldSize-newSize,cv2.BORDER_CONSTANT)\n",
    "    elif pos == 4: #right down\n",
    "        nImg = cv2.copyMakeBorder(resizeImg,oldSize-newSize,0,oldSize-newSize,0,cv2.BORDER_CONSTANT)\n",
    "    elif pos == 5: #middle\n",
    "        pad = int((oldSize-newSize)/2)\n",
    "        nImg = cv2.copyMakeBorder(resizeImg,pad,pad,pad,pad,cv2.BORDER_CONSTANT)\n",
    "    return nImg"
   ]
  },
  {
   "cell_type": "markdown",
   "metadata": {},
   "source": [
    "pos 位置\n",
    "- 1：left up\n",
    "- 2：right up\n",
    "- 3：left down\n",
    "- 4：right down\n",
    "- 5：middle"
   ]
  },
  {
   "cell_type": "markdown",
   "metadata": {},
   "source": [
    "## 平移"
   ]
  },
  {
   "cell_type": "code",
   "execution_count": 4,
   "metadata": {},
   "outputs": [],
   "source": [
    "def imgTranslation(img,h,v):\n",
    "    H = np.float32([[1,0,h],[0,1,v]])\n",
    "    rows,cols = img.shape[:2]\n",
    "    nImg = cv2.warpAffine(img,H,(rows,cols))\n",
    "    return nImg"
   ]
  },
  {
   "cell_type": "markdown",
   "metadata": {},
   "source": [
    "- h:水平移動<br>\n",
    "    舉例：向右5單位h=5；向左5單位h=-5\n",
    "\n",
    "- v:垂直移動<br>\n",
    "    舉例：向上3單位v=-3；向下3單位h=3"
   ]
  },
  {
   "cell_type": "markdown",
   "metadata": {},
   "source": [
    "# CNN"
   ]
  },
  {
   "cell_type": "markdown",
   "metadata": {},
   "source": [
    "## 初始化"
   ]
  },
  {
   "cell_type": "code",
   "execution_count": 5,
   "metadata": {
    "scrolled": true
   },
   "outputs": [
    {
     "name": "stderr",
     "output_type": "stream",
     "text": [
      "Using TensorFlow backend.\n"
     ]
    },
    {
     "data": {
      "text/plain": [
       "[name: \"/device:CPU:0\"\n",
       " device_type: \"CPU\"\n",
       " memory_limit: 268435456\n",
       " locality {\n",
       " }\n",
       " incarnation: 3074672994940700104, name: \"/device:GPU:0\"\n",
       " device_type: \"GPU\"\n",
       " memory_limit: 3170070937\n",
       " locality {\n",
       "   bus_id: 1\n",
       "   links {\n",
       "   }\n",
       " }\n",
       " incarnation: 430057369386695242\n",
       " physical_device_desc: \"device: 0, name: GeForce MX150, pci bus id: 0000:01:00.0, compute capability: 6.1\"]"
      ]
     },
     "execution_count": 5,
     "metadata": {},
     "output_type": "execute_result"
    }
   ],
   "source": [
    "import keras\n",
    "from keras.utils import to_categorical\n",
    "from keras.datasets import mnist\n",
    "import tensorflow as tf\n",
    "\n",
    "from tensorflow.python.client import device_lib\n",
    "device_lib.list_local_devices()"
   ]
  },
  {
   "cell_type": "code",
   "execution_count": 6,
   "metadata": {},
   "outputs": [],
   "source": [
    "sess = tf.Session(config=tf.ConfigProto(log_device_placement=True))"
   ]
  },
  {
   "cell_type": "code",
   "execution_count": 7,
   "metadata": {},
   "outputs": [],
   "source": [
    "# Data\n",
    "(x_Train,y_Train),(x_Test,y_Test) = keras.datasets.mnist.load_data()\n",
    "#多加一顏色維度\n",
    "x_Train4D =x_Train.reshape(x_Train.shape[0],28,28,1).astype('float32')\n",
    "\n",
    "# Normalization\n",
    "x_Train4D = x_Train4D /255\n",
    "\n",
    "# one hot encoding\n",
    "y_TrainOneHot = to_categorical(y_Train)"
   ]
  },
  {
   "cell_type": "markdown",
   "metadata": {},
   "source": [
    "## Build Model"
   ]
  },
  {
   "cell_type": "code",
   "execution_count": 67,
   "metadata": {},
   "outputs": [],
   "source": [
    "from keras import layers\n",
    "from keras import models"
   ]
  },
  {
   "cell_type": "code",
   "execution_count": 68,
   "metadata": {
    "scrolled": true
   },
   "outputs": [
    {
     "name": "stdout",
     "output_type": "stream",
     "text": [
      "Model: \"sequential_4\"\n",
      "_________________________________________________________________\n",
      "Layer (type)                 Output Shape              Param #   \n",
      "=================================================================\n",
      "conv2d_7 (Conv2D)            (None, 28, 28, 32)        832       \n",
      "_________________________________________________________________\n",
      "max_pooling2d_7 (MaxPooling2 (None, 14, 14, 32)        0         \n",
      "_________________________________________________________________\n",
      "conv2d_8 (Conv2D)            (None, 14, 14, 64)        51264     \n",
      "_________________________________________________________________\n",
      "max_pooling2d_8 (MaxPooling2 (None, 7, 7, 64)          0         \n",
      "_________________________________________________________________\n",
      "flatten_4 (Flatten)          (None, 3136)              0         \n",
      "_________________________________________________________________\n",
      "dense_7 (Dense)              (None, 64)                200768    \n",
      "_________________________________________________________________\n",
      "dense_8 (Dense)              (None, 10)                650       \n",
      "=================================================================\n",
      "Total params: 253,514\n",
      "Trainable params: 253,514\n",
      "Non-trainable params: 0\n",
      "_________________________________________________________________\n"
     ]
    }
   ],
   "source": [
    "model = models.Sequential()\n",
    "model.add(layers.Conv2D(filters = 32,\n",
    "                       kernel_size = (5,5),\n",
    "                        padding = 'same',\n",
    "                       activation = 'relu',\n",
    "                       input_shape=(28,28,1)))\n",
    "model.add(layers.MaxPooling2D(pool_size=(2,2)))\n",
    "\n",
    "model.add(layers.Conv2D(filters = 64,\n",
    "                       kernel_size = (5,5),\n",
    "                        padding = 'same',\n",
    "                       activation = 'relu'))\n",
    "\n",
    "model.add(layers.MaxPooling2D(pool_size=(2,2)))\n",
    "\n",
    "model.add(layers.Flatten())\n",
    "# Drop 掉部分神經元，避免 overfitting\n",
    "#model.add(Dropout(rate = 0.25))\n",
    "model.add(layers.Dense(units=64,activation='relu'))\n",
    "model.add(layers.Dense(units=10,activation='softmax'))\n",
    "\n",
    "model.summary()"
   ]
  },
  {
   "cell_type": "markdown",
   "metadata": {},
   "source": [
    "Conv2D_1 <br>\n",
    "每個 filter 有 $5*5*1$ (width,height,depth) 個 params，共有 32個 filters，故有 $5*5*32+32(bias)=832$ <br>\n",
    "<br>\n",
    "Conv2D_2 <br>\n",
    "每個 filter 有 $5*5*32$個 params，共有 64個 filters，故有 $5*5*32*64+64(bias)=51264$ <br>\n",
    "<br>\n",
    "Flatten <br>\n",
    "有 $7*7*64=3136$ <br>\n",
    "<br>\n",
    "Dense_1 <br>\n",
    "有 $3136*64+64(bias)=200768$ <br>\n",
    "<br>\n",
    "Dense_2 <br>\n",
    "有 $64*10+10(bias)=650$ <br>"
   ]
  },
  {
   "cell_type": "code",
   "execution_count": 69,
   "metadata": {},
   "outputs": [],
   "source": [
    "model.compile(optimizer='adam',loss = 'categorical_crossentropy',metrics=['accuracy'])"
   ]
  },
  {
   "cell_type": "markdown",
   "metadata": {},
   "source": [
    "## Train model"
   ]
  },
  {
   "cell_type": "code",
   "execution_count": 70,
   "metadata": {
    "scrolled": true
   },
   "outputs": [
    {
     "name": "stdout",
     "output_type": "stream",
     "text": [
      "Train on 48000 samples, validate on 12000 samples\n",
      "Epoch 1/50\n",
      "48000/48000 [==============================] - 11s 224us/step - loss: 0.2798 - acc: 0.9175 - val_loss: 0.0785 - val_acc: 0.9762\n",
      "Epoch 2/50\n",
      "48000/48000 [==============================] - 9s 192us/step - loss: 0.0666 - acc: 0.9790 - val_loss: 0.0560 - val_acc: 0.9823\n",
      "Epoch 3/50\n",
      "48000/48000 [==============================] - 9s 191us/step - loss: 0.0459 - acc: 0.9862 - val_loss: 0.0451 - val_acc: 0.9862\n",
      "Epoch 4/50\n",
      "48000/48000 [==============================] - 9s 193us/step - loss: 0.0341 - acc: 0.9897 - val_loss: 0.0392 - val_acc: 0.9877\n",
      "Epoch 5/50\n",
      "48000/48000 [==============================] - 9s 193us/step - loss: 0.0284 - acc: 0.9910 - val_loss: 0.0404 - val_acc: 0.9881\n",
      "Epoch 6/50\n",
      "48000/48000 [==============================] - 9s 193us/step - loss: 0.0232 - acc: 0.9928 - val_loss: 0.0446 - val_acc: 0.9870\n",
      "Epoch 7/50\n",
      "48000/48000 [==============================] - 9s 193us/step - loss: 0.0175 - acc: 0.9945 - val_loss: 0.0407 - val_acc: 0.9881\n",
      "Epoch 8/50\n",
      "48000/48000 [==============================] - 9s 195us/step - loss: 0.0141 - acc: 0.9953 - val_loss: 0.0495 - val_acc: 0.9875\n",
      "Epoch 9/50\n",
      "48000/48000 [==============================] - 9s 198us/step - loss: 0.0118 - acc: 0.9963 - val_loss: 0.0442 - val_acc: 0.9881\n",
      "Epoch 10/50\n",
      "48000/48000 [==============================] - 10s 198us/step - loss: 0.0111 - acc: 0.9965 - val_loss: 0.0429 - val_acc: 0.9888\n",
      "Epoch 11/50\n",
      "48000/48000 [==============================] - 9s 198us/step - loss: 0.0088 - acc: 0.9973 - val_loss: 0.0370 - val_acc: 0.9899\n",
      "Epoch 12/50\n",
      "48000/48000 [==============================] - 9s 196us/step - loss: 0.0084 - acc: 0.9972 - val_loss: 0.0424 - val_acc: 0.9893\n",
      "Epoch 13/50\n",
      "48000/48000 [==============================] - 9s 197us/step - loss: 0.0060 - acc: 0.9980 - val_loss: 0.0400 - val_acc: 0.9896\n",
      "Epoch 14/50\n",
      "48000/48000 [==============================] - 9s 197us/step - loss: 0.0044 - acc: 0.9988 - val_loss: 0.0416 - val_acc: 0.9897\n",
      "Epoch 15/50\n",
      "48000/48000 [==============================] - 9s 197us/step - loss: 0.0053 - acc: 0.9983 - val_loss: 0.0481 - val_acc: 0.9898\n",
      "Epoch 16/50\n",
      "48000/48000 [==============================] - 11s 222us/step - loss: 0.0075 - acc: 0.9974 - val_loss: 0.0440 - val_acc: 0.9877\n",
      "Epoch 17/50\n",
      "48000/48000 [==============================] - 9s 198us/step - loss: 0.0071 - acc: 0.9975 - val_loss: 0.0436 - val_acc: 0.9898\n",
      "Epoch 18/50\n",
      "48000/48000 [==============================] - 9s 196us/step - loss: 0.0055 - acc: 0.9980 - val_loss: 0.0472 - val_acc: 0.9894\n",
      "Epoch 19/50\n",
      "48000/48000 [==============================] - 10s 198us/step - loss: 0.0037 - acc: 0.9986 - val_loss: 0.0419 - val_acc: 0.9898\n",
      "Epoch 20/50\n",
      "48000/48000 [==============================] - 9s 197us/step - loss: 0.0049 - acc: 0.9984 - val_loss: 0.0575 - val_acc: 0.9878\n",
      "Epoch 21/50\n",
      "48000/48000 [==============================] - 10s 199us/step - loss: 0.0032 - acc: 0.9989 - val_loss: 0.0372 - val_acc: 0.9909\n",
      "Epoch 22/50\n",
      "48000/48000 [==============================] - 10s 199us/step - loss: 0.0020 - acc: 0.9994 - val_loss: 0.0393 - val_acc: 0.9916\n",
      "Epoch 23/50\n",
      "48000/48000 [==============================] - 10s 201us/step - loss: 0.0024 - acc: 0.9993 - val_loss: 0.0496 - val_acc: 0.9896\n",
      "Epoch 24/50\n",
      "48000/48000 [==============================] - 10s 199us/step - loss: 0.0048 - acc: 0.9985 - val_loss: 0.0412 - val_acc: 0.9913\n",
      "Epoch 25/50\n",
      "48000/48000 [==============================] - 10s 200us/step - loss: 0.0029 - acc: 0.9991 - val_loss: 0.0466 - val_acc: 0.9900\n",
      "Epoch 26/50\n",
      "48000/48000 [==============================] - 10s 199us/step - loss: 9.0144e-04 - acc: 0.9998 - val_loss: 0.0425 - val_acc: 0.9908\n",
      "Epoch 27/50\n",
      "48000/48000 [==============================] - 9s 197us/step - loss: 1.4234e-04 - acc: 1.0000 - val_loss: 0.0477 - val_acc: 0.9913\n",
      "Epoch 28/50\n",
      "48000/48000 [==============================] - 10s 198us/step - loss: 0.0011 - acc: 0.9996 - val_loss: 0.0567 - val_acc: 0.9886\n",
      "Epoch 29/50\n",
      "48000/48000 [==============================] - 9s 197us/step - loss: 0.0079 - acc: 0.9977 - val_loss: 0.0493 - val_acc: 0.9899\n",
      "Epoch 30/50\n",
      "48000/48000 [==============================] - 10s 200us/step - loss: 0.0045 - acc: 0.9986 - val_loss: 0.0549 - val_acc: 0.9901\n",
      "Epoch 31/50\n",
      "48000/48000 [==============================] - 10s 199us/step - loss: 0.0031 - acc: 0.9991 - val_loss: 0.0502 - val_acc: 0.9905\n",
      "Epoch 32/50\n",
      "48000/48000 [==============================] - 10s 199us/step - loss: 0.0017 - acc: 0.9995 - val_loss: 0.0524 - val_acc: 0.9912\n",
      "Epoch 33/50\n",
      "48000/48000 [==============================] - 10s 199us/step - loss: 0.0026 - acc: 0.9991 - val_loss: 0.0517 - val_acc: 0.9909\n",
      "Epoch 34/50\n",
      "48000/48000 [==============================] - 10s 203us/step - loss: 0.0031 - acc: 0.9991 - val_loss: 0.0501 - val_acc: 0.9903\n",
      "Epoch 35/50\n",
      "48000/48000 [==============================] - 10s 204us/step - loss: 0.0025 - acc: 0.9991 - val_loss: 0.0494 - val_acc: 0.9912\n",
      "Epoch 36/50\n",
      "48000/48000 [==============================] - 10s 200us/step - loss: 7.4361e-04 - acc: 0.9998 - val_loss: 0.0585 - val_acc: 0.9900\n",
      "Epoch 37/50\n",
      "48000/48000 [==============================] - 10s 200us/step - loss: 0.0012 - acc: 0.9997 - val_loss: 0.0462 - val_acc: 0.9912\n",
      "Epoch 38/50\n",
      "48000/48000 [==============================] - 9s 198us/step - loss: 0.0016 - acc: 0.9995 - val_loss: 0.0594 - val_acc: 0.9889\n",
      "Epoch 39/50\n",
      "48000/48000 [==============================] - 10s 200us/step - loss: 0.0028 - acc: 0.9993 - val_loss: 0.0562 - val_acc: 0.9908\n",
      "Epoch 40/50\n",
      "48000/48000 [==============================] - 10s 200us/step - loss: 0.0030 - acc: 0.9992 - val_loss: 0.0521 - val_acc: 0.9903\n",
      "Epoch 41/50\n",
      "48000/48000 [==============================] - 9s 198us/step - loss: 0.0020 - acc: 0.9994 - val_loss: 0.0624 - val_acc: 0.9883\n",
      "Epoch 42/50\n",
      "48000/48000 [==============================] - 10s 199us/step - loss: 0.0019 - acc: 0.9994 - val_loss: 0.0526 - val_acc: 0.9906\n",
      "Epoch 43/50\n",
      "48000/48000 [==============================] - 10s 198us/step - loss: 0.0035 - acc: 0.9990 - val_loss: 0.0504 - val_acc: 0.9918\n",
      "Epoch 44/50\n",
      "48000/48000 [==============================] - 10s 199us/step - loss: 8.9402e-04 - acc: 0.9997 - val_loss: 0.0443 - val_acc: 0.9925\n",
      "Epoch 45/50\n",
      "48000/48000 [==============================] - 10s 200us/step - loss: 6.7608e-05 - acc: 1.0000 - val_loss: 0.0455 - val_acc: 0.9923\n",
      "Epoch 46/50\n",
      "48000/48000 [==============================] - 10s 199us/step - loss: 1.5367e-05 - acc: 1.0000 - val_loss: 0.0451 - val_acc: 0.9923\n",
      "Epoch 47/50\n",
      "48000/48000 [==============================] - 10s 199us/step - loss: 9.9844e-06 - acc: 1.0000 - val_loss: 0.0455 - val_acc: 0.9926\n",
      "Epoch 48/50\n",
      "48000/48000 [==============================] - 10s 199us/step - loss: 7.7791e-06 - acc: 1.0000 - val_loss: 0.0460 - val_acc: 0.9926\n",
      "Epoch 49/50\n",
      "48000/48000 [==============================] - 10s 199us/step - loss: 6.3601e-06 - acc: 1.0000 - val_loss: 0.0463 - val_acc: 0.9926\n",
      "Epoch 50/50\n",
      "48000/48000 [==============================] - 10s 199us/step - loss: 5.3459e-06 - acc: 1.0000 - val_loss: 0.0467 - val_acc: 0.9925\n"
     ]
    }
   ],
   "source": [
    "train_history = model.fit(x=x_Train4D,y= y_TrainOneHot,validation_split=0.2,epochs=50, batch_size=200,verbose=1)"
   ]
  },
  {
   "cell_type": "code",
   "execution_count": 71,
   "metadata": {},
   "outputs": [],
   "source": [
    "def show_train_history(train_acc,val_acc,y_label):\n",
    "    plt.plot(train_history.history[train_acc])\n",
    "    plt.plot(train_history.history[val_acc])\n",
    "    plt.title('Train History')\n",
    "    plt.ylabel(y_label)\n",
    "    plt.xlabel('Epoch')\n",
    "    plt.legend(['train', 'validation'], loc='upper right')\n",
    "    plt.show()"
   ]
  },
  {
   "cell_type": "code",
   "execution_count": 72,
   "metadata": {
    "scrolled": true
   },
   "outputs": [
    {
     "data": {
      "image/png": "[encoded data removed]",
      "text/plain": [
       "<Figure size 432x288 with 1 Axes>"
      ]
     },
     "metadata": {
      "needs_background": "light"
     },
     "output_type": "display_data"
    }
   ],
   "source": [
    "show_train_history('acc','val_acc','Accuracy')"
   ]
  },
  {
   "cell_type": "code",
   "execution_count": 73,
   "metadata": {
    "scrolled": true
   },
   "outputs": [
    {
     "data": {
      "image/png": "[encoded data removed]",
      "text/plain": [
       "<Figure size 432x288 with 1 Axes>"
      ]
     },
     "metadata": {
      "needs_background": "light"
     },
     "output_type": "display_data"
    }
   ],
   "source": [
    "show_train_history('loss','val_loss','Loss')"
   ]
  },
  {
   "cell_type": "markdown",
   "metadata": {},
   "source": [
    "## Test Model"
   ]
  },
  {
   "cell_type": "markdown",
   "metadata": {},
   "source": [
    "## Testing Data Deformation"
   ]
  },
  {
   "cell_type": "code",
   "execution_count": 74,
   "metadata": {},
   "outputs": [],
   "source": [
    "import numpy as np\n",
    "import pandas as pd"
   ]
  },
  {
   "cell_type": "code",
   "execution_count": 208,
   "metadata": {},
   "outputs": [],
   "source": [
    "# 旋轉 ===================================\n",
    "x_Test_rotate = np.empty(x_Test.shape)\n",
    "\n",
    "for i in range(0,x_Test.shape[0]):\n",
    "    x_Test_rotate[i]=image_rotate(x_Test[i],np.random.randint(0,360))\n",
    "    \n",
    "# 縮放 ===================================\n",
    "x_Test_sacle = np.empty(x_Test.shape)\n",
    "tmp = int(x_Test.shape[1]/2)\n",
    "for i in range(0,x_Test.shape[0]):\n",
    "    x_Test_sacle[i] = imgPosition(x_Test[i],np.random.randint(4,tmp)*2,5)\n",
    "\n",
    "# 縮放位移 =============================== 固定大小 14\n",
    "x_Test_sacleTrans = np.empty(x_Test.shape)\n",
    "tmp = int(x_Test.shape[1]/2)\n",
    "for i in range(0,x_Test.shape[0]):\n",
    "    x_Test_sacleTrans[i] = imgPosition(x_Test[i],tmp,np.random.randint(1,6))\n",
    "\n",
    "# 不縮放位移 ==============================\n",
    "x_Test_trans = np.empty(x_Test.shape)\n",
    "for i in range(0,x_Test.shape[0]):\n",
    "    x_Test_trans[i] = imgTranslation(x_Test[i],np.random.randint(-5,6),np.random.randint(-5,6))\n"
   ]
  },
  {
   "cell_type": "code",
   "execution_count": 190,
   "metadata": {},
   "outputs": [],
   "source": [
    "def getTestData(type):\n",
    "    if type == 0:\n",
    "        tData = x_Test.reshape(x_Test.shape[0],28,28,1).astype('float32')\n",
    "    elif type == 1 : # rotation\n",
    "        tData = x_Test_rotate.reshape(x_Test_rotate.shape[0],28,28,1).astype('float32')\n",
    "    elif type == 2 :\n",
    "        tData = x_Test_sacle.reshape(x_Test_rotate.shape[0],28,28,1).astype('float32')\n",
    "    elif type == 3 :\n",
    "        tData = x_Test_sacleTrans.reshape(x_Test_rotate.shape[0],28,28,1).astype('float32')\n",
    "    elif type == 4 :\n",
    "        tData = x_Test_trans.reshape(x_Test_rotate.shape[0],28,28,1).astype('float32')\n",
    "    \n",
    "    return tData"
   ]
  },
  {
   "cell_type": "markdown",
   "metadata": {},
   "source": [
    "Type\n",
    "- 0：原圖\n",
    "- 1：旋轉\n",
    "- 2：縮放\n",
    "- 3：縮放位移 \n",
    "- 4：不縮放位移"
   ]
  },
  {
   "cell_type": "code",
   "execution_count": 209,
   "metadata": {},
   "outputs": [],
   "source": [
    "x_Test4D = getTestData(4)\n",
    "\n",
    "# Normalization\n",
    "x_Test4D = x_Test4D  /255\n",
    "\n",
    "# one hot encoding\n",
    "y_TestOneHot = to_categorical(y_Test)"
   ]
  },
  {
   "cell_type": "code",
   "execution_count": 170,
   "metadata": {},
   "outputs": [
    {
     "data": {
      "image/png": "[encoded data removed]",
      "text/plain": [
       "<Figure size 144x144 with 1 Axes>"
      ]
     },
     "metadata": {
      "needs_background": "light"
     },
     "output_type": "display_data"
    },
    {
     "data": {
      "image/png": "[encoded data removed]",
      "text/plain": [
       "<Figure size 144x144 with 1 Axes>"
      ]
     },
     "metadata": {
      "needs_background": "light"
     },
     "output_type": "display_data"
    }
   ],
   "source": [
    "t = x_Test4D[23].reshape(28,28)\n",
    "plot_image(t)\n",
    "#t = image_rotate(t,np.random.randint(0,360))\n",
    "#t = imgPosition(t,np.random.randint(4,tmp)*2,5)\n",
    "#t = imgPosition(t,14,5)\n",
    "t = imgTranslation(t,np.random.randint(-5,6),np.random.randint(-5,6))\n",
    "plot_image(t)"
   ]
  },
  {
   "cell_type": "code",
   "execution_count": 210,
   "metadata": {},
   "outputs": [
    {
     "name": "stdout",
     "output_type": "stream",
     "text": [
      "10000/10000 [==============================] - 1s 135us/step\n"
     ]
    },
    {
     "data": {
      "text/plain": [
       "0.5988"
      ]
     },
     "execution_count": 210,
     "metadata": {},
     "output_type": "execute_result"
    }
   ],
   "source": [
    "scores = model.evaluate(x_Test4D , y_TestOneHot)\n",
    "scores[1]"
   ]
  },
  {
   "cell_type": "code",
   "execution_count": 211,
   "metadata": {
    "scrolled": true
   },
   "outputs": [
    {
     "data": {
      "text/html": [
       "<div>\n",
       "<style scoped>\n",
       "    .dataframe tbody tr th:only-of-type {\n",
       "        vertical-align: middle;\n",
       "    }\n",
       "\n",
       "    .dataframe tbody tr th {\n",
       "        vertical-align: top;\n",
       "    }\n",
       "\n",
       "    .dataframe thead th {\n",
       "        text-align: right;\n",
       "    }\n",
       "</style>\n",
       "<table border=\"1\" class=\"dataframe\">\n",
       "  <thead>\n",
       "    <tr style=\"text-align: right;\">\n",
       "      <th>predict</th>\n",
       "      <th>0</th>\n",
       "      <th>1</th>\n",
       "      <th>2</th>\n",
       "      <th>3</th>\n",
       "      <th>4</th>\n",
       "      <th>5</th>\n",
       "      <th>6</th>\n",
       "      <th>7</th>\n",
       "      <th>8</th>\n",
       "      <th>9</th>\n",
       "    </tr>\n",
       "    <tr>\n",
       "      <th>label</th>\n",
       "      <th></th>\n",
       "      <th></th>\n",
       "      <th></th>\n",
       "      <th></th>\n",
       "      <th></th>\n",
       "      <th></th>\n",
       "      <th></th>\n",
       "      <th></th>\n",
       "      <th></th>\n",
       "      <th></th>\n",
       "    </tr>\n",
       "  </thead>\n",
       "  <tbody>\n",
       "    <tr>\n",
       "      <td>0</td>\n",
       "      <td>457</td>\n",
       "      <td>30</td>\n",
       "      <td>57</td>\n",
       "      <td>44</td>\n",
       "      <td>56</td>\n",
       "      <td>30</td>\n",
       "      <td>141</td>\n",
       "      <td>64</td>\n",
       "      <td>73</td>\n",
       "      <td>28</td>\n",
       "    </tr>\n",
       "    <tr>\n",
       "      <td>1</td>\n",
       "      <td>24</td>\n",
       "      <td>548</td>\n",
       "      <td>6</td>\n",
       "      <td>2</td>\n",
       "      <td>132</td>\n",
       "      <td>1</td>\n",
       "      <td>130</td>\n",
       "      <td>275</td>\n",
       "      <td>0</td>\n",
       "      <td>17</td>\n",
       "    </tr>\n",
       "    <tr>\n",
       "      <td>2</td>\n",
       "      <td>18</td>\n",
       "      <td>4</td>\n",
       "      <td>703</td>\n",
       "      <td>40</td>\n",
       "      <td>53</td>\n",
       "      <td>35</td>\n",
       "      <td>42</td>\n",
       "      <td>107</td>\n",
       "      <td>14</td>\n",
       "      <td>16</td>\n",
       "    </tr>\n",
       "    <tr>\n",
       "      <td>3</td>\n",
       "      <td>19</td>\n",
       "      <td>21</td>\n",
       "      <td>125</td>\n",
       "      <td>722</td>\n",
       "      <td>13</td>\n",
       "      <td>29</td>\n",
       "      <td>21</td>\n",
       "      <td>47</td>\n",
       "      <td>7</td>\n",
       "      <td>6</td>\n",
       "    </tr>\n",
       "    <tr>\n",
       "      <td>4</td>\n",
       "      <td>23</td>\n",
       "      <td>73</td>\n",
       "      <td>80</td>\n",
       "      <td>10</td>\n",
       "      <td>571</td>\n",
       "      <td>27</td>\n",
       "      <td>25</td>\n",
       "      <td>124</td>\n",
       "      <td>13</td>\n",
       "      <td>36</td>\n",
       "    </tr>\n",
       "    <tr>\n",
       "      <td>5</td>\n",
       "      <td>12</td>\n",
       "      <td>18</td>\n",
       "      <td>56</td>\n",
       "      <td>92</td>\n",
       "      <td>5</td>\n",
       "      <td>581</td>\n",
       "      <td>30</td>\n",
       "      <td>50</td>\n",
       "      <td>25</td>\n",
       "      <td>23</td>\n",
       "    </tr>\n",
       "    <tr>\n",
       "      <td>6</td>\n",
       "      <td>50</td>\n",
       "      <td>68</td>\n",
       "      <td>56</td>\n",
       "      <td>7</td>\n",
       "      <td>83</td>\n",
       "      <td>15</td>\n",
       "      <td>601</td>\n",
       "      <td>6</td>\n",
       "      <td>40</td>\n",
       "      <td>32</td>\n",
       "    </tr>\n",
       "    <tr>\n",
       "      <td>7</td>\n",
       "      <td>3</td>\n",
       "      <td>22</td>\n",
       "      <td>95</td>\n",
       "      <td>41</td>\n",
       "      <td>10</td>\n",
       "      <td>36</td>\n",
       "      <td>8</td>\n",
       "      <td>798</td>\n",
       "      <td>1</td>\n",
       "      <td>14</td>\n",
       "    </tr>\n",
       "    <tr>\n",
       "      <td>8</td>\n",
       "      <td>21</td>\n",
       "      <td>29</td>\n",
       "      <td>32</td>\n",
       "      <td>88</td>\n",
       "      <td>19</td>\n",
       "      <td>55</td>\n",
       "      <td>116</td>\n",
       "      <td>74</td>\n",
       "      <td>499</td>\n",
       "      <td>41</td>\n",
       "    </tr>\n",
       "    <tr>\n",
       "      <td>9</td>\n",
       "      <td>9</td>\n",
       "      <td>22</td>\n",
       "      <td>23</td>\n",
       "      <td>66</td>\n",
       "      <td>53</td>\n",
       "      <td>37</td>\n",
       "      <td>73</td>\n",
       "      <td>173</td>\n",
       "      <td>45</td>\n",
       "      <td>508</td>\n",
       "    </tr>\n",
       "  </tbody>\n",
       "</table>\n",
       "</div>"
      ],
      "text/plain": [
       "predict    0    1    2    3    4    5    6    7    8    9\n",
       "label                                                    \n",
       "0        457   30   57   44   56   30  141   64   73   28\n",
       "1         24  548    6    2  132    1  130  275    0   17\n",
       "2         18    4  703   40   53   35   42  107   14   16\n",
       "3         19   21  125  722   13   29   21   47    7    6\n",
       "4         23   73   80   10  571   27   25  124   13   36\n",
       "5         12   18   56   92    5  581   30   50   25   23\n",
       "6         50   68   56    7   83   15  601    6   40   32\n",
       "7          3   22   95   41   10   36    8  798    1   14\n",
       "8         21   29   32   88   19   55  116   74  499   41\n",
       "9          9   22   23   66   53   37   73  173   45  508"
      ]
     },
     "execution_count": 211,
     "metadata": {},
     "output_type": "execute_result"
    }
   ],
   "source": [
    "prediction = model.predict_classes(x_Test4D)\n",
    "pd.crosstab(y_Test,prediction,\n",
    "            rownames=['label'],colnames=['predict'])"
   ]
  }
 ],
 "metadata": {
  "kernelspec": {
   "display_name": "Python (tensorflow-gpu)",
   "language": "python",
   "name": "tensorflow-gpu"
  },
  "language_info": {
   "codemirror_mode": {
    "name": "ipython",
    "version": 3
   },
   "file_extension": ".py",
   "mimetype": "text/x-python",
   "name": "python",
   "nbconvert_exporter": "python",
   "pygments_lexer": "ipython3",
   "version": "3.6.9"
  }
 },
 "nbformat": 4,
 "nbformat_minor": 2
}
